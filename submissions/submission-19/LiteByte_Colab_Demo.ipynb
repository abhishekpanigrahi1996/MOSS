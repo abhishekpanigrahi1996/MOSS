{
 "cells": [
  {
   "cell_type": "markdown",
   "metadata": {},
   "source": [
    "# LiteByte: Online Byte-Level MLP Model\n",
    "\n",
    "This notebook demonstrates the core components of the LiteByte architecture in a minimal setting. It runs in under 30 minutes on Google Colab Free Tier GPUs."
   ]
  },
  {
   "cell_type": "code",
   "execution_count": null,
   "metadata": {},
   "outputs": [],
   "source": [
    "# Install required libraries\n",
    "!pip install torch numpy"
   ]
  },
  {
   "cell_type": "code",
   "execution_count": null,
   "metadata": {},
   "outputs": [],
   "source": [
    "# Define a simplified LiteByte block (no expert routing, 1 patch, 1 OrgLayer)\n",
    "import torch\n",
    "import torch.nn as nn\n",
    "import torch.nn.functional as F\n",
    "\n",
    "class LiteByte(nn.Module):\n",
    "    def __init__(self, vocab_size=256, vocab_dim=64, hidden_dim=512):\n",
    "        super().__init__()\n",
    "        self.embed = nn.Embedding(vocab_size, vocab_dim)\n",
    "        self.norm1 = nn.LayerNorm(hidden_dim)\n",
    "        self.ffn = nn.Sequential(\n",
    "            nn.Linear(hidden_dim, hidden_dim*4),\n",
    "            nn.GELU(),\n",
    "            nn.Linear(hidden_dim*4, hidden_dim),\n",
    "            nn.GELU()\n",
    "        )\n",
    "        self.proj = nn.Linear(hidden_dim, vocab_size)\n",
    "\n",
    "    def forward(self, x):\n",
    "        x = torch.sigmoid(self.embed(x))\n",
    "        B, T, D = x.shape\n",
    "        x = x.view(B, T // 8, 8 * D)\n",
    "        x = self.norm1(x)\n",
    "        x = self.ffn(x) + x\n",
    "        logits = self.proj(x)\n",
    "        return logits\n",
    "\n",
    "# Example usage\n",
    "model = LiteByte()\n",
    "x = torch.randint(0, 256, (2, 64))  # batch size 2, sequence length 64\n",
    "logits = model(x)\n",
    "logits.shape  # should be (2, 8, 256)"
   ]
  },
  {
   "cell_type": "markdown",
   "metadata": {},
   "source": [
    "You can now proceed to train the model using a simple cross-entropy loss and perform online updates per batch."
   ]
  }
 ],
 "metadata": {
  "kernelspec": {
   "display_name": "Python 3",
   "language": "python",
   "name": "python3"
  },
  "language_info": {
   "name": "python",
   "version": "3.8"
  }
 },
 "nbformat": 4,
 "nbformat_minor": 5
}
